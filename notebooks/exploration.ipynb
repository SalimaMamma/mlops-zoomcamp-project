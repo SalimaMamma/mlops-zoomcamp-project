{
 "cells": [
  {
   "cell_type": "code",
   "execution_count": null,
   "id": "9fc9fdde",
   "metadata": {},
   "outputs": [
    {
     "name": "stdout",
     "output_type": "stream",
     "text": [
      "Fichiers dans le bucket: ['data/historical_BTC_USD_20250709223725.csv', 'data/historical_ETH_USD_20250709223739.csv']\n",
      "             timestamp        low       high       open      close     volume  \\\n",
      "0  2025-05-11 00:40:00  104103.90  104431.59  104128.08  104416.31  14.666196   \n",
      "1  2025-05-11 00:45:00  104413.57  104579.02  104416.34  104577.43  10.076182   \n",
      "2  2025-05-11 00:50:00  104401.12  104598.09  104577.42  104415.65  20.423233   \n",
      "3  2025-05-11 00:55:00  104356.00  104482.83  104421.20  104427.33   9.096331   \n",
      "4  2025-05-11 01:00:00  104121.88  104427.33  104427.32  104287.48  13.507878   \n",
      "\n",
      "    symbol  \n",
      "0  BTC-USD  \n",
      "1  BTC-USD  \n",
      "2  BTC-USD  \n",
      "3  BTC-USD  \n",
      "4  BTC-USD  \n"
     ]
    }
   ],
   "source": [
    "import boto3\n",
    "import pandas as pd\n",
    "from io import BytesIO\n",
    "\n",
    "# Config AWS LocalStack\n",
    "s3 = boto3.client(\n",
    "    's3',\n",
    "    region_name='us-east-1',\n",
    "    aws_access_key_id='test',\n",
    "    aws_secret_access_key='test',\n",
    "    endpoint_url='http://localhost:4566'\n",
    ")\n",
    "\n",
    "bucket = 'crypto-mlops-bucket'\n",
    "\n",
    "# Lister les fichiers dans le bucket\n",
    "response = s3.list_objects_v2(Bucket=bucket)\n",
    "files = [obj['Key'] for obj in response.get('Contents', [])]\n",
    "print(\"Fichiers dans le bucket:\", files)\n",
    "\n",
    "\n",
    "file_key = files[0]\n",
    "\n",
    "# Télécharger le fichier en mémoire\n",
    "obj = s3.get_object(Bucket=bucket, Key=file_key)\n",
    "data = obj['Body'].read()\n",
    "\n",
    "\n"
   ]
  },
  {
   "cell_type": "code",
   "execution_count": 2,
   "id": "a586ea35",
   "metadata": {},
   "outputs": [
    {
     "name": "stdout",
     "output_type": "stream",
     "text": [
      "             timestamp        low       high       open      close     volume  \\\n",
      "0  2025-05-11 00:40:00  104103.90  104431.59  104128.08  104416.31  14.666196   \n",
      "1  2025-05-11 00:45:00  104413.57  104579.02  104416.34  104577.43  10.076182   \n",
      "2  2025-05-11 00:50:00  104401.12  104598.09  104577.42  104415.65  20.423233   \n",
      "3  2025-05-11 00:55:00  104356.00  104482.83  104421.20  104427.33   9.096331   \n",
      "4  2025-05-11 01:00:00  104121.88  104427.33  104427.32  104287.48  13.507878   \n",
      "\n",
      "    symbol  \n",
      "0  BTC-USD  \n",
      "1  BTC-USD  \n",
      "2  BTC-USD  \n",
      "3  BTC-USD  \n",
      "4  BTC-USD  \n"
     ]
    }
   ],
   "source": [
    "df = pd.read_csv(BytesIO(data))\n",
    "\n",
    "print(df.head())\n"
   ]
  },
  {
   "cell_type": "markdown",
   "id": "e118e470",
   "metadata": {},
   "source": [
    "open : le prix d'ouverture de la période (par exemple, prix au début de la minute, heure, jour, selon ta fréquence)\n",
    "\n",
    "high : le prix le plus haut atteint pendant la période\n",
    "\n",
    "low : le prix le plus bas pendant la période\n",
    "\n",
    "close : le prix à la fin de la période (prix de clôture)\n",
    "\n",
    "volume : la quantité de crypto échangée pendant la période"
   ]
  },
  {
   "cell_type": "code",
   "execution_count": null,
   "id": "4858253a",
   "metadata": {},
   "outputs": [],
   "source": []
  }
 ],
 "metadata": {
  "kernelspec": {
   "display_name": ".conda",
   "language": "python",
   "name": "python3"
  },
  "language_info": {
   "codemirror_mode": {
    "name": "ipython",
    "version": 3
   },
   "file_extension": ".py",
   "mimetype": "text/x-python",
   "name": "python",
   "nbconvert_exporter": "python",
   "pygments_lexer": "ipython3",
   "version": "3.11.11"
  }
 },
 "nbformat": 4,
 "nbformat_minor": 5
}
